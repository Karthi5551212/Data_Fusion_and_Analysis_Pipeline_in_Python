{
 "cells": [
  {
   "cell_type": "code",
   "execution_count": 9,
   "id": "ba32e53f",
   "metadata": {},
   "outputs": [
    {
     "name": "stdout",
     "output_type": "stream",
     "text": [
      "      ID    Project           Cost    Status\n",
      "0   A001   project 1  1.002000e+06  Finished\n",
      "1   A002   project 2  2.000000e+06   Ongoing\n",
      "2   A003   project 3  4.500000e+06  Finished\n",
      "3   A004   project 4  5.500000e+06   Ongoing\n",
      "4   A005   project 5  3.250500e+06  Finished\n",
      "5   A002   project 6  6.800000e+05    Failed\n",
      "6   A005   project 7  4.000000e+05  Finished\n",
      "7   A003   project 8  3.500000e+05    Failed\n",
      "8   A001   project 9  2.061714e+06   Ongoing\n",
      "9   A003  project 10  3.000000e+05  Finished\n",
      "10  A001  project 11  2.000000e+06    Failed\n",
      "11  A004  project 12  1.000000e+06   Ongoing\n",
      "12  A004  project 13  3.000000e+06  Finished\n",
      "13  A005  project 14  2.000000e+05  Finished\n"
     ]
    }
   ],
   "source": [
    "import os\n",
    "import pandas as pd\n",
    "directory = \"D:\\Data Analytics Course\\Python\\capstone_project\"\n",
    "file_name = \"project_dataframe.csv\"\n",
    "file_path = os.path.join(directory,file_name)\n",
    "df = pd.read_csv(file_path,encoding='utf-8')\n",
    "#print(df)\n",
    "running_sum = 0\n",
    "count = 0\n",
    "\n",
    "# Iterate through each row in the DataFrame\n",
    "for index, row in df.iterrows():\n",
    "    # If cost is not missing, update the running sum and count\n",
    "    if not pd.isna(row['Cost']):\n",
    "        running_sum += row['Cost']\n",
    "        count += 1\n",
    "    # If cost is missing, fill it with the running average\n",
    "    else:\n",
    "        # Calculate running average\n",
    "        if count > 0:  # To avoid division by zero error\n",
    "            running_average = running_sum / count\n",
    "            df.at[index, 'Cost'] = running_average\n",
    "\n",
    "# Save the updated DataFrame back to a CSV file (optional)\n",
    "df.to_csv(r'D:\\Data Analytics Course\\Python\\capstone_project\\Updated_Project_dataframe.csv',encoding='utf-8',index=False)\n",
    "\n",
    "# Print the DataFrame (optional)\n",
    "print(df)"
   ]
  },
  {
   "cell_type": "code",
   "execution_count": 12,
   "id": "4c6dea83",
   "metadata": {},
   "outputs": [
    {
     "name": "stdout",
     "output_type": "stream",
     "text": [
      "     ID Gender     City  Age First Name  Last Name\n",
      "0  A001      M    Paris   25       John      Alter\n",
      "1  A002      F   London   27      Alice  Luxumberg\n",
      "2  A003      M   Berlin   29        Tom  Sabestine\n",
      "3  A004      F  Newyork   31       Nina      Adgra\n",
      "4  A005      F   Madrid   30        Amy      Johny\n"
     ]
    },
    {
     "name": "stderr",
     "output_type": "stream",
     "text": [
      "C:\\Users\\Admin\\AppData\\Local\\Temp\\ipykernel_11836\\3443013172.py:8: FutureWarning: In a future version of pandas all arguments of StringMethods.split except for the argument 'pat' will be keyword-only.\n",
      "  df[['First Name', 'Last Name']] = df['Name'].str.split(' ', 1, expand=True)\n"
     ]
    }
   ],
   "source": [
    "\n",
    "# Load the CSV file into a DataFrame\n",
    "directory = \"D:\\Data Analytics Course\\Python\\capstone_project\"\n",
    "file_name = \"employee_dataframe.csv\"\n",
    "file_path = os.path.join(directory,file_name)\n",
    "df = pd.read_csv(file_path,encoding = 'utf-8')\n",
    "\n",
    "# Split the 'name' column into 'First Name' and 'Last Name' columns\n",
    "df[['First Name', 'Last Name']] = df['Name'].str.split(' ', 1, expand=True)\n",
    "\n",
    "# Drop the original 'name' column from the DataFrame\n",
    "df.drop(columns=['Name'], inplace=True)\n",
    "\n",
    "# Optionally, save the updated DataFrame back to a CSV file\n",
    "df.to_csv(r'D:\\Data Analytics Course\\Python\\capstone_project\\Updated_employee_dataframe.csv',encoding='utf-8', index=False)\n",
    "\n",
    "# Print the updated DataFrame (optional)\n",
    "print(df)\n"
   ]
  },
  {
   "cell_type": "code",
   "execution_count": 16,
   "id": "51d3068d",
   "metadata": {},
   "outputs": [
    {
     "name": "stdout",
     "output_type": "stream",
     "text": [
      "      ID    Project           Cost    Status Gender     City  Age First Name  \\\n",
      "0   A001   project 1  1.002000e+06  Finished      M    Paris   25       John   \n",
      "1   A001   project 9  2.061714e+06   Ongoing      M    Paris   25       John   \n",
      "2   A001  project 11  2.000000e+06    Failed      M    Paris   25       John   \n",
      "3   A002   project 2  2.000000e+06   Ongoing      F   London   27      Alice   \n",
      "4   A002   project 6  6.800000e+05    Failed      F   London   27      Alice   \n",
      "5   A003   project 3  4.500000e+06  Finished      M   Berlin   29        Tom   \n",
      "6   A003   project 8  3.500000e+05    Failed      M   Berlin   29        Tom   \n",
      "7   A003  project 10  3.000000e+05  Finished      M   Berlin   29        Tom   \n",
      "8   A004   project 4  5.500000e+06   Ongoing      F  Newyork   31       Nina   \n",
      "9   A004  project 12  1.000000e+06   Ongoing      F  Newyork   31       Nina   \n",
      "10  A004  project 13  3.000000e+06  Finished      F  Newyork   31       Nina   \n",
      "11  A005   project 5  3.250500e+06  Finished      F   Madrid   30        Amy   \n",
      "12  A005   project 7  4.000000e+05  Finished      F   Madrid   30        Amy   \n",
      "13  A005  project 14  2.000000e+05  Finished      F   Madrid   30        Amy   \n",
      "\n",
      "    Last Name  Designation Level  \n",
      "0       Alter                  2  \n",
      "1       Alter                  2  \n",
      "2       Alter                  2  \n",
      "3   Luxumberg                  2  \n",
      "4   Luxumberg                  2  \n",
      "5   Sabestine                  3  \n",
      "6   Sabestine                  3  \n",
      "7   Sabestine                  3  \n",
      "8       Adgra                  2  \n",
      "9       Adgra                  2  \n",
      "10      Adgra                  2  \n",
      "11      Johny                  3  \n",
      "12      Johny                  3  \n",
      "13      Johny                  3  \n"
     ]
    }
   ],
   "source": [
    "#reading dataframes\n",
    "df1 = pd.read_csv(r'D:\\Data Analytics Course\\Python\\capstone_project\\Updated_Project_dataframe.csv')\n",
    "df2 = pd.read_csv(r'D:\\Data Analytics Course\\Python\\capstone_project\\Updated_employee_dataframe.csv')\n",
    "df3 = pd.read_csv(r'D:\\Data Analytics Course\\Python\\capstone_project\\seniority_level_dataframe.csv')\n",
    "#mentioning common key\n",
    "join_key = 'ID'\n",
    "#merging the dataframes\n",
    "final_1 = pd.merge(df1,df2,on=join_key,how='inner')\n",
    "final=pd.merge(final_1,df3,on=join_key,how='inner')\n",
    "final.to_csv(r'D:\\Data Analytics Course\\Python\\capstone_project\\final.csv',encoding='utf-8',index=False)\n",
    "print(final)"
   ]
  },
  {
   "cell_type": "code",
   "execution_count": 18,
   "id": "05c11fbd",
   "metadata": {},
   "outputs": [
    {
     "name": "stdout",
     "output_type": "stream",
     "text": [
      "      ID    Project           Cost    Status Gender     City  Age First Name  \\\n",
      "0   A001   project 1  1.002000e+06  Finished      M    Paris   25       John   \n",
      "1   A001   project 9  2.061714e+06   Ongoing      M    Paris   25       John   \n",
      "2   A001  project 11  2.000000e+06    Failed      M    Paris   25       John   \n",
      "3   A002   project 2  2.000000e+06   Ongoing      F   London   27      Alice   \n",
      "4   A002   project 6  6.800000e+05    Failed      F   London   27      Alice   \n",
      "5   A003   project 3  4.500000e+06  Finished      M   Berlin   29        Tom   \n",
      "6   A003   project 8  3.500000e+05    Failed      M   Berlin   29        Tom   \n",
      "7   A003  project 10  3.000000e+05  Finished      M   Berlin   29        Tom   \n",
      "8   A004   project 4  5.500000e+06   Ongoing      F  Newyork   31       Nina   \n",
      "9   A004  project 12  1.000000e+06   Ongoing      F  Newyork   31       Nina   \n",
      "10  A004  project 13  3.000000e+06  Finished      F  Newyork   31       Nina   \n",
      "11  A005   project 5  3.250500e+06  Finished      F   Madrid   30        Amy   \n",
      "12  A005   project 7  4.000000e+05  Finished      F   Madrid   30        Amy   \n",
      "13  A005  project 14  2.000000e+05  Finished      F   Madrid   30        Amy   \n",
      "\n",
      "    Last Name  Designation Level  bonus  \n",
      "0       Alter                  2      0  \n",
      "1       Alter                  2      0  \n",
      "2       Alter                  2      0  \n",
      "3   Luxumberg                  2      0  \n",
      "4   Luxumberg                  2      0  \n",
      "5   Sabestine                  3      0  \n",
      "6   Sabestine                  3      0  \n",
      "7   Sabestine                  3      0  \n",
      "8       Adgra                  2      0  \n",
      "9       Adgra                  2      0  \n",
      "10      Adgra                  2      0  \n",
      "11      Johny                  3      0  \n",
      "12      Johny                  3      0  \n",
      "13      Johny                  3      0  \n"
     ]
    }
   ],
   "source": [
    "final = pd.read_csv(r'D:\\Data Analytics Course\\Python\\capstone_project\\final.csv')\n",
    "# Define the bonus rate as 5% of the project cost\n",
    "bonus_rate = 0.05\n",
    "\n",
    "# Create a new column 'bonus' in the `final` DataFrame\n",
    "# Calculate bonus for employees who have finished the project (status column)\n",
    "final['bonus'] = final.apply(\n",
    "    lambda row: row['Cost'] * bonus_rate if row['Status'].lower() == 'Finished' else 0,\n",
    "    axis=1\n",
    ")\n",
    "\n",
    "# Optionally, save the updated DataFrame to a CSV file\n",
    "final.to_csv(r'D:\\Data Analytics Course\\Python\\capstone_project\\final_1.csv',encoding = 'utf-8', index=False)\n",
    "\n",
    "# Print the final DataFrame to verify the results (optional)\n",
    "print(final)\n"
   ]
  },
  {
   "cell_type": "code",
   "execution_count": 36,
   "id": "62c67c1a",
   "metadata": {},
   "outputs": [
    {
     "name": "stdout",
     "output_type": "stream",
     "text": [
      "      ID    Project           Cost    Status Gender     City  Age First Name  \\\n",
      "0   A001   project 1  1.002000e+06  Finished      M    Paris   25       John   \n",
      "1   A001   project 9  2.061714e+06   Ongoing      M    Paris   25       John   \n",
      "2   A001  project 11  2.000000e+06    Failed      M    Paris   25       John   \n",
      "3   A002   project 2  2.000000e+06   Ongoing      F   London   27      Alice   \n",
      "4   A002   project 6  6.800000e+05    Failed      F   London   27      Alice   \n",
      "5   A003   project 3  4.500000e+06  Finished      M   Berlin   29        Tom   \n",
      "6   A003   project 8  3.500000e+05    Failed      M   Berlin   29        Tom   \n",
      "7   A003  project 10  3.000000e+05  Finished      M   Berlin   29        Tom   \n",
      "8   A004   project 4  5.500000e+06   Ongoing      F  Newyork   31       Nina   \n",
      "9   A004  project 12  1.000000e+06   Ongoing      F  Newyork   31       Nina   \n",
      "10  A004  project 13  3.000000e+06  Finished      F  Newyork   31       Nina   \n",
      "11  A005   project 5  3.250500e+06  Finished      F   Madrid   30        Amy   \n",
      "12  A005   project 7  4.000000e+05  Finished      F   Madrid   30        Amy   \n",
      "13  A005  project 14  2.000000e+05  Finished      F   Madrid   30        Amy   \n",
      "\n",
      "    Last Name  Designation Level  bonus  \n",
      "0       Alter                  2      0  \n",
      "1       Alter                  2      0  \n",
      "2       Alter                  3      0  \n",
      "3   Luxumberg                  2      0  \n",
      "4   Luxumberg                  3      0  \n",
      "5   Sabestine                  3      0  \n",
      "6   Sabestine                  4      0  \n",
      "7   Sabestine                  3      0  \n",
      "8       Adgra                  2      0  \n",
      "9       Adgra                  2      0  \n",
      "10      Adgra                  2      0  \n",
      "11      Johny                  3      0  \n",
      "12      Johny                  3      0  \n",
      "13      Johny                  3      0  \n"
     ]
    }
   ],
   "source": [
    "def process(input_file_path,output_file_path):\n",
    "    df = pd.read_csv(input_file_path)\n",
    "    df.loc[df['Status'] == 'Failed','Designation Level'] += 1\n",
    "    df = df[df['Designation Level']<=4]\n",
    "    df.to_csv(output_file_path,index=False)\n",
    "    print(df)\n",
    "input_file_path = (r\"D:\\Data Analytics Course\\Python\\capstone_project\\final_1.csv\")\n",
    "output_file_path = (r\"D:\\Data Analytics Course\\Python\\capstone_project\\final_2.csv\")\n",
    "process(input_file_path,output_file_path)\n",
    "    \n",
    "\n"
   ]
  },
  {
   "cell_type": "code",
   "execution_count": 42,
   "id": "32d3bd76",
   "metadata": {},
   "outputs": [
    {
     "name": "stdout",
     "output_type": "stream",
     "text": [
      "      ID    Project           Cost    Status     City  Age  First Name  \\\n",
      "0   A001   project 1  1.002000e+06  Finished    Paris   25    Mr. John   \n",
      "1   A001   project 9  2.061714e+06   Ongoing    Paris   25    Mr. John   \n",
      "2   A001  project 11  2.000000e+06    Failed    Paris   25    Mr. John   \n",
      "3   A002   project 2  2.000000e+06   Ongoing   London   27  Mrs. Alice   \n",
      "4   A002   project 6  6.800000e+05    Failed   London   27  Mrs. Alice   \n",
      "5   A003   project 3  4.500000e+06  Finished   Berlin   29     Mr. Tom   \n",
      "6   A003   project 8  3.500000e+05    Failed   Berlin   29     Mr. Tom   \n",
      "7   A003  project 10  3.000000e+05  Finished   Berlin   29     Mr. Tom   \n",
      "8   A004   project 4  5.500000e+06   Ongoing  Newyork   31   Mrs. Nina   \n",
      "9   A004  project 12  1.000000e+06   Ongoing  Newyork   31   Mrs. Nina   \n",
      "10  A004  project 13  3.000000e+06  Finished  Newyork   31   Mrs. Nina   \n",
      "11  A005   project 5  3.250500e+06  Finished   Madrid   30    Mrs. Amy   \n",
      "12  A005   project 7  4.000000e+05  Finished   Madrid   30    Mrs. Amy   \n",
      "13  A005  project 14  2.000000e+05  Finished   Madrid   30    Mrs. Amy   \n",
      "\n",
      "    Last Name  Designation Level  bonus  \n",
      "0       Alter                  2      0  \n",
      "1       Alter                  2      0  \n",
      "2       Alter                  3      0  \n",
      "3   Luxumberg                  2      0  \n",
      "4   Luxumberg                  3      0  \n",
      "5   Sabestine                  3      0  \n",
      "6   Sabestine                  4      0  \n",
      "7   Sabestine                  3      0  \n",
      "8       Adgra                  2      0  \n",
      "9       Adgra                  2      0  \n",
      "10      Adgra                  2      0  \n",
      "11      Johny                  3      0  \n",
      "12      Johny                  3      0  \n",
      "13      Johny                  3      0  \n"
     ]
    }
   ],
   "source": [
    "def process(input_file_path, output_file_path):\n",
    "    # Read the CSV file\n",
    "    df = pd.read_csv(input_file_path)\n",
    "    \n",
    "    # Add prefix to the first name column based on gender\n",
    "    def add_prefix(row):\n",
    "        if row['Gender'] == 'M':\n",
    "            return f\"Mr. {row['First Name']}\"\n",
    "        elif row['Gender'] == 'F':\n",
    "            return f\"Mrs. {row['First Name']}\"\n",
    "\n",
    "    # Apply the prefix function to the 'First Name' column\n",
    "    df['First Name'] = df.apply(add_prefix, axis=1)\n",
    "    \n",
    "    # Drop the gender column\n",
    "    df.drop(columns=['Gender'], inplace=True)\n",
    "    \n",
    "    # Save the updated DataFrame to a new CSV file\n",
    "    df.to_csv(output_file_path, index=False)\n",
    "    print(df)\n",
    "\n",
    "# Specify the input and output file paths\n",
    "input_file_path = r'D:\\Data Analytics Course\\Python\\capstone_project\\final_2.csv'\n",
    "output_file_path = r'D:\\Data Analytics Course\\Python\\capstone_project\\final_3.csv'\n",
    "\n",
    "# Call the function to process the CSV file\n",
    "process(input_file_path, output_file_path)\n"
   ]
  },
  {
   "cell_type": "code",
   "execution_count": 44,
   "id": "b8406d72",
   "metadata": {},
   "outputs": [
    {
     "name": "stdout",
     "output_type": "stream",
     "text": [
      "      ID    Project           Cost    Status     City  Age  First Name  \\\n",
      "0   A001   project 1  1.002000e+06  Finished    Paris   25    Mr. John   \n",
      "1   A001   project 9  2.061714e+06   Ongoing    Paris   25    Mr. John   \n",
      "2   A001  project 11  2.000000e+06    Failed    Paris   25    Mr. John   \n",
      "3   A002   project 2  2.000000e+06   Ongoing   London   27  Mrs. Alice   \n",
      "4   A002   project 6  6.800000e+05    Failed   London   27  Mrs. Alice   \n",
      "5   A003   project 3  4.500000e+06  Finished   Berlin   29     Mr. Tom   \n",
      "6   A003   project 8  3.500000e+05    Failed   Berlin   29     Mr. Tom   \n",
      "7   A003  project 10  3.000000e+05  Finished   Berlin   29     Mr. Tom   \n",
      "8   A004   project 4  5.500000e+06   Ongoing  Newyork   31   Mrs. Nina   \n",
      "9   A004  project 12  1.000000e+06   Ongoing  Newyork   31   Mrs. Nina   \n",
      "10  A004  project 13  3.000000e+06  Finished  Newyork   31   Mrs. Nina   \n",
      "11  A005   project 5  3.250500e+06  Finished   Madrid   30    Mrs. Amy   \n",
      "12  A005   project 7  4.000000e+05  Finished   Madrid   30    Mrs. Amy   \n",
      "13  A005  project 14  2.000000e+05  Finished   Madrid   30    Mrs. Amy   \n",
      "\n",
      "    Last Name  Designation Level  bonus  \n",
      "0       Alter                  1      0  \n",
      "1       Alter                  1      0  \n",
      "2       Alter                  2      0  \n",
      "3   Luxumberg                  1      0  \n",
      "4   Luxumberg                  2      0  \n",
      "5   Sabestine                  2      0  \n",
      "6   Sabestine                  3      0  \n",
      "7   Sabestine                  2      0  \n",
      "8       Adgra                  1      0  \n",
      "9       Adgra                  1      0  \n",
      "10      Adgra                  1      0  \n",
      "11      Johny                  2      0  \n",
      "12      Johny                  2      0  \n",
      "13      Johny                  2      0  \n"
     ]
    }
   ],
   "source": [
    "def process(input_file_path,output_file_path):\n",
    "    df = pd.read_csv(input_file_path)\n",
    "    if [df['Age'] > 29]:\n",
    "        df['Designation Level'] -= 1\n",
    "    df.to_csv(output_file_path,index=False)\n",
    "    print(df)\n",
    "input_file_path = (r\"D:\\Data Analytics Course\\Python\\capstone_project\\final_3.csv\")\n",
    "output_file_path = (r\"D:\\Data Analytics Course\\Python\\capstone_project\\final_4.csv\")\n",
    "process(input_file_path,output_file_path)"
   ]
  },
  {
   "cell_type": "code",
   "execution_count": 47,
   "id": "6f4e4668",
   "metadata": {},
   "outputs": [
    {
     "name": "stdout",
     "output_type": "stream",
     "text": [
      "     ID  First Name    Total cost\n",
      "0  A001    Mr. John  5.063714e+06\n",
      "1  A002  Mrs. Alice  2.680000e+06\n",
      "2  A003     Mr. Tom  5.150000e+06\n",
      "3  A004   Mrs. Nina  9.500000e+06\n",
      "4  A005    Mrs. Amy  3.850500e+06\n"
     ]
    }
   ],
   "source": [
    "def calculate_total_project_cost(input_file_path, output_file_path):\n",
    "    # Read the CSV file\n",
    "    df = pd.read_csv(input_file_path)\n",
    "    \n",
    "    # Group the data by 'ID' and calculate the sum of 'Project Cost' for each employee\n",
    "    total_costs = df.groupby('ID')['Cost'].sum().reset_index()\n",
    "    \n",
    "    # Merge the total costs with the original DataFrame to get the 'First Name' column\n",
    "    # from the original DataFrame and keep unique rows using the first occurrence of each ID\n",
    "    total_costs = total_costs.merge(df[['ID', 'First Name']].drop_duplicates(), on='ID')\n",
    "    \n",
    "    # Rename the 'Project Cost' column to 'Total cost'\n",
    "    total_costs.rename(columns={'Cost': 'Total cost'}, inplace=True)\n",
    "    \n",
    "    # Reorder columns to match the required output format\n",
    "    total_costs = total_costs[['ID', 'First Name', 'Total cost']]\n",
    "    \n",
    "    # Save the resulting DataFrame to a new CSV file\n",
    "    total_costs.to_csv(output_file_path, index=False)\n",
    "    \n",
    "    print(total_costs)\n",
    "# Specify the input and output file paths\n",
    "input_file_path = r'D:\\Data Analytics Course\\Python\\capstone_project\\final_4.csv'  # Replace this with the correct path to the input CSV file\n",
    "output_file_path = r'D:\\Data Analytics Course\\Python\\capstone_project\\final_5.csv'  # Replace this with the desired output file path\n",
    "\n",
    "# Call the function to calculate total project costs and save to a new CSV file\n",
    "calculate_total_project_cost(input_file_path, output_file_path)\n"
   ]
  },
  {
   "cell_type": "code",
   "execution_count": 48,
   "id": "5c08556c",
   "metadata": {},
   "outputs": [
    {
     "name": "stdout",
     "output_type": "stream",
     "text": [
      "Employee details whose city name contains the letter 'o':\n",
      "      ID    Project        Cost    Status     City  Age  First Name  \\\n",
      "3   A002   project 2  2000000.0   Ongoing   London   27  Mrs. Alice   \n",
      "4   A002   project 6   680000.0    Failed   London   27  Mrs. Alice   \n",
      "8   A004   project 4  5500000.0   Ongoing  Newyork   31   Mrs. Nina   \n",
      "9   A004  project 12  1000000.0   Ongoing  Newyork   31   Mrs. Nina   \n",
      "10  A004  project 13  3000000.0  Finished  Newyork   31   Mrs. Nina   \n",
      "\n",
      "    Last Name  Designation Level  bonus  \n",
      "3   Luxumberg                  1      0  \n",
      "4   Luxumberg                  2      0  \n",
      "8       Adgra                  1      0  \n",
      "9       Adgra                  1      0  \n",
      "10      Adgra                  1      0  \n"
     ]
    }
   ],
   "source": [
    "def print_employees_in_city_with_o(file_path):\n",
    "    # Read the CSV file\n",
    "    df = pd.read_csv(file_path)\n",
    "    \n",
    "    # Filter the DataFrame based on city names containing the letter \"o\"\n",
    "    employees_in_city_with_o = df[df['City'].str.contains('o', case=False, na=False)]\n",
    "    \n",
    "    # Print the filtered DataFrame\n",
    "    if not employees_in_city_with_o.empty:\n",
    "        print(\"Employee details whose city name contains the letter 'o':\")\n",
    "        print(employees_in_city_with_o)\n",
    "    else:\n",
    "        print(\"No employees found whose city name contains the letter 'o'.\")\n",
    "\n",
    "# Specify the input file path\n",
    "input_file_path = r'D:\\Data Analytics Course\\Python\\capstone_project\\final_4.csv'  # Replace this with the correct path to the input CSV file\n",
    "\n",
    "# Call the function to print employee details\n",
    "print_employees_in_city_with_o(input_file_path)\n"
   ]
  },
  {
   "cell_type": "code",
   "execution_count": null,
   "id": "f71e3841",
   "metadata": {},
   "outputs": [],
   "source": [
    "\n"
   ]
  }
 ],
 "metadata": {
  "kernelspec": {
   "display_name": "Python 3 (ipykernel)",
   "language": "python",
   "name": "python3"
  },
  "language_info": {
   "codemirror_mode": {
    "name": "ipython",
    "version": 3
   },
   "file_extension": ".py",
   "mimetype": "text/x-python",
   "name": "python",
   "nbconvert_exporter": "python",
   "pygments_lexer": "ipython3",
   "version": "3.10.9"
  }
 },
 "nbformat": 4,
 "nbformat_minor": 5
}
